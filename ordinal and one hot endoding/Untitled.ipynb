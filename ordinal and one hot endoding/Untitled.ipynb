{
 "cells": [
  {
   "cell_type": "code",
   "execution_count": null,
   "id": "76877a50",
   "metadata": {},
   "outputs": [],
   "source": [
    "#Different data have different problems\n",
    "#It becomes difficult to handle each problem explicitly by applying diff transformations on diff cols\n",
    "#This creates diff numpy arrays and is inefficient\n",
    "\n",
    "#We thus use col transformer in class\n",
    "\n",
    "\n",
    "\n"
   ]
  }
 ],
 "metadata": {
  "kernelspec": {
   "display_name": "Python 3 (ipykernel)",
   "language": "python",
   "name": "python3"
  },
  "language_info": {
   "codemirror_mode": {
    "name": "ipython",
    "version": 3
   },
   "file_extension": ".py",
   "mimetype": "text/x-python",
   "name": "python",
   "nbconvert_exporter": "python",
   "pygments_lexer": "ipython3",
   "version": "3.11.5"
  }
 },
 "nbformat": 4,
 "nbformat_minor": 5
}
